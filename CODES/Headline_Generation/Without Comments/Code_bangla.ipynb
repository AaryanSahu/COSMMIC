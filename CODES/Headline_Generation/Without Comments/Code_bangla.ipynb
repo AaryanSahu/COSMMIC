{
 "cells": [
  {
   "cell_type": "code",
   "execution_count": 1,
   "metadata": {},
   "outputs": [
    {
     "name": "stdout",
     "output_type": "stream",
     "text": [
      "Requirement already satisfied: openai in /Library/Frameworks/Python.framework/Versions/3.12/lib/python3.12/site-packages (1.35.10)\n",
      "Requirement already satisfied: anyio<5,>=3.5.0 in /Library/Frameworks/Python.framework/Versions/3.12/lib/python3.12/site-packages (from openai) (4.4.0)\n",
      "Requirement already satisfied: distro<2,>=1.7.0 in /Library/Frameworks/Python.framework/Versions/3.12/lib/python3.12/site-packages (from openai) (1.9.0)\n",
      "Requirement already satisfied: httpx<1,>=0.23.0 in /Library/Frameworks/Python.framework/Versions/3.12/lib/python3.12/site-packages (from openai) (0.27.0)\n",
      "Requirement already satisfied: pydantic<3,>=1.9.0 in /Library/Frameworks/Python.framework/Versions/3.12/lib/python3.12/site-packages (from openai) (2.8.2)\n",
      "Requirement already satisfied: sniffio in /Library/Frameworks/Python.framework/Versions/3.12/lib/python3.12/site-packages (from openai) (1.3.1)\n",
      "Requirement already satisfied: tqdm>4 in /Library/Frameworks/Python.framework/Versions/3.12/lib/python3.12/site-packages (from openai) (4.66.4)\n",
      "Requirement already satisfied: typing-extensions<5,>=4.7 in /Library/Frameworks/Python.framework/Versions/3.12/lib/python3.12/site-packages (from openai) (4.12.2)\n",
      "Requirement already satisfied: idna>=2.8 in /Library/Frameworks/Python.framework/Versions/3.12/lib/python3.12/site-packages (from anyio<5,>=3.5.0->openai) (3.7)\n",
      "Requirement already satisfied: certifi in /Library/Frameworks/Python.framework/Versions/3.12/lib/python3.12/site-packages (from httpx<1,>=0.23.0->openai) (2024.6.2)\n",
      "Requirement already satisfied: httpcore==1.* in /Library/Frameworks/Python.framework/Versions/3.12/lib/python3.12/site-packages (from httpx<1,>=0.23.0->openai) (1.0.5)\n",
      "Requirement already satisfied: h11<0.15,>=0.13 in /Library/Frameworks/Python.framework/Versions/3.12/lib/python3.12/site-packages (from httpcore==1.*->httpx<1,>=0.23.0->openai) (0.14.0)\n",
      "Requirement already satisfied: annotated-types>=0.4.0 in /Library/Frameworks/Python.framework/Versions/3.12/lib/python3.12/site-packages (from pydantic<3,>=1.9.0->openai) (0.7.0)\n",
      "Requirement already satisfied: pydantic-core==2.20.1 in /Library/Frameworks/Python.framework/Versions/3.12/lib/python3.12/site-packages (from pydantic<3,>=1.9.0->openai) (2.20.1)\n",
      "\n",
      "\u001b[1m[\u001b[0m\u001b[34;49mnotice\u001b[0m\u001b[1;39;49m]\u001b[0m\u001b[39;49m A new release of pip is available: \u001b[0m\u001b[31;49m24.0\u001b[0m\u001b[39;49m -> \u001b[0m\u001b[32;49m24.1.1\u001b[0m\n",
      "\u001b[1m[\u001b[0m\u001b[34;49mnotice\u001b[0m\u001b[1;39;49m]\u001b[0m\u001b[39;49m To update, run: \u001b[0m\u001b[32;49mpip3 install --upgrade pip\u001b[0m\n",
      "Note: you may need to restart the kernel to use updated packages.\n"
     ]
    }
   ],
   "source": [
    "%pip install openai"
   ]
  },
  {
   "cell_type": "code",
   "execution_count": 2,
   "metadata": {},
   "outputs": [],
   "source": [
    "import openai\n",
    "from openai import OpenAI\n",
    "import os\n",
    "GPT_API_KEY = 'OPENAI_API_KEY'\n",
    "os.environ['OPENAI_API_KEY'] = GPT_API_KEY\n",
    "openai.api_key = GPT_API_KEY\n",
    "client = OpenAI()\n"
   ]
  },
  {
   "cell_type": "code",
   "execution_count": 3,
   "metadata": {},
   "outputs": [],
   "source": [
    "import pandas as pd\n",
    "data=pd.read_csv(\"/Users/aryansahu/Desktop/IIT-P/DATASETS/Dailyhunt_Bangla.csv\")\n"
   ]
  },
  {
   "cell_type": "code",
   "execution_count": 4,
   "metadata": {},
   "outputs": [
    {
     "name": "stdout",
     "output_type": "stream",
     "text": [
      "Requirement already satisfied: tiktoken in /Library/Frameworks/Python.framework/Versions/3.12/lib/python3.12/site-packages (0.7.0)\n",
      "Requirement already satisfied: regex>=2022.1.18 in /Library/Frameworks/Python.framework/Versions/3.12/lib/python3.12/site-packages (from tiktoken) (2024.5.15)\n",
      "Requirement already satisfied: requests>=2.26.0 in /Library/Frameworks/Python.framework/Versions/3.12/lib/python3.12/site-packages (from tiktoken) (2.32.3)\n",
      "Requirement already satisfied: charset-normalizer<4,>=2 in /Library/Frameworks/Python.framework/Versions/3.12/lib/python3.12/site-packages (from requests>=2.26.0->tiktoken) (3.3.2)\n",
      "Requirement already satisfied: idna<4,>=2.5 in /Library/Frameworks/Python.framework/Versions/3.12/lib/python3.12/site-packages (from requests>=2.26.0->tiktoken) (3.7)\n",
      "Requirement already satisfied: urllib3<3,>=1.21.1 in /Library/Frameworks/Python.framework/Versions/3.12/lib/python3.12/site-packages (from requests>=2.26.0->tiktoken) (2.2.2)\n",
      "Requirement already satisfied: certifi>=2017.4.17 in /Library/Frameworks/Python.framework/Versions/3.12/lib/python3.12/site-packages (from requests>=2.26.0->tiktoken) (2024.6.2)\n",
      "\n",
      "\u001b[1m[\u001b[0m\u001b[34;49mnotice\u001b[0m\u001b[1;39;49m]\u001b[0m\u001b[39;49m A new release of pip is available: \u001b[0m\u001b[31;49m24.0\u001b[0m\u001b[39;49m -> \u001b[0m\u001b[32;49m24.1.1\u001b[0m\n",
      "\u001b[1m[\u001b[0m\u001b[34;49mnotice\u001b[0m\u001b[1;39;49m]\u001b[0m\u001b[39;49m To update, run: \u001b[0m\u001b[32;49mpip3 install --upgrade pip\u001b[0m\n",
      "Note: you may need to restart the kernel to use updated packages.\n"
     ]
    }
   ],
   "source": [
    "%pip install tiktoken\n",
    "import tiktoken\n",
    "tokenizer = tiktoken.get_encoding('cl100k_base')\n"
   ]
  },
  {
   "cell_type": "code",
   "execution_count": 6,
   "metadata": {},
   "outputs": [],
   "source": [
    "def generate_headline(text, comments):\n",
    "    # Ensure the text is a string\n",
    "    if not isinstance(text, str):\n",
    "        return None\n",
    "    \n",
    "    # Encode the text to get tokens\n",
    "    tokens = tokenizer.encode(text)\n",
    "    token_count = len(tokens)\n",
    "    \n",
    "    # Token limit\n",
    "    token_limit = 1000\n",
    "    \n",
    "    # Trim the text if the token count exceeds the limit\n",
    "    if token_count > token_limit:\n",
    "        # Calculate the number of characters to retain\n",
    "        text = text[:12000]\n",
    "        # Recalculate tokens to ensure it's under the limit\n",
    "        tokens = tokenizer.encode(text)\n",
    "        while len(tokens) > token_limit:\n",
    "            text = text[:-1]\n",
    "            tokens = tokenizer.encode(text)\n",
    "    \n",
    "    # Call the model with the (possibly trimmed) text\n",
    "    completion = client.chat.completions.create(\n",
    "        model=\"gpt-3.5-turbo-0125\",\n",
    "        messages=[\n",
    "            {\n",
    "                \"role\": \"system\",\n",
    "                \"content\": \"Your task is to generate a headline which summarizes the text and the comments.\"\n",
    "            },\n",
    "            {\n",
    "                \"role\": \"user\",\n",
    "                \"content\": f\"Generate a headline using the contents and comments, such that the headline includes the sentiment of comments as well. Generate it in the same language as the text. News-Headline.\\n\\nContents: {text}\\n\\nComments: {comments}\\n\\n.\"\n",
    "            }\n",
    "        ]\n",
    "    )\n",
    "    \n",
    "    # Retrieve the generated headline\n",
    "    headline = completion.choices[0].message.content\n",
    "    return headline\n"
   ]
  },
  {
   "cell_type": "code",
   "execution_count": 7,
   "metadata": {},
   "outputs": [],
   "source": [
    "# data['GPT headline'] = data['news_content'].apply(generate_headline)\n",
    "data['GPT headline'] = data['Content'].apply(generate_headline)\n",
    "data.to_csv('Bangla_Headlines.csv', index=False)\n",
    "# print(\"DataFrame saved to 'headlines_with_content.csv'\")"
   ]
  },
  {
   "cell_type": "code",
   "execution_count": 5,
   "metadata": {},
   "outputs": [],
   "source": [
    "def generate_headline(text, comments):\n",
    "    # Ensure the text is a string\n",
    "    if not isinstance(text, str):\n",
    "        return None\n",
    "    \n",
    "    # Encode the text to get tokens\n",
    "    tokens = tokenizer.encode(text)\n",
    "    token_count = len(tokens)\n",
    "    \n",
    "    # Token limit\n",
    "    token_limit = 12000\n",
    "    \n",
    "    # Trim the text if the token count exceeds the limit\n",
    "    if token_count > token_limit:\n",
    "        # Calculate the number of characters to retain\n",
    "        text = text[:12000]\n",
    "        # Recalculate tokens to ensure it's under the limit\n",
    "        tokens = tokenizer.encode(text)\n",
    "        while len(tokens) > token_limit:\n",
    "            text = text[:-1]\n",
    "            tokens = tokenizer.encode(text)\n",
    "    \n",
    "    # Call the model with the (possibly trimmed) text\n",
    "    completion = client.chat.completions.create(\n",
    "        model=\"gpt-3.5-turbo-0125\",\n",
    "        messages=[\n",
    "            {\n",
    "                \"role\": \"system\",\n",
    "                \"content\": \"Your task is to generate a headline which summarizes the text.\"\n",
    "            },\n",
    "            {\n",
    "                \"role\": \"user\",\n",
    "                \"content\": f\"Generate a headline using the contents and comments, such that the headline includes the sentiment of comments as well. Generate it in the same language as the text. News Headline.\\n\\nContents: {text}\\n\\nComments: {comments}\\n\\n.\"\n",
    "            }\n",
    "        ]\n",
    "    )\n",
    "    \n",
    "    # Retrieve the generated headline\n",
    "    headline = completion.choices[0].message.content\n",
    "    return headline\n"
   ]
  },
  {
   "cell_type": "code",
   "execution_count": 6,
   "metadata": {},
   "outputs": [
    {
     "name": "stdout",
     "output_type": "stream",
     "text": [
      "DataFrame saved to 'headlines_with_content.csv'\n"
     ]
    }
   ],
   "source": [
    "# data['GPT headline'] = data['news_content'].apply(generate_headline)\n",
    "data['GPT headline'] = data.apply(lambda row: generate_headline(row['Content'], row['Comments']), axis=1)\n",
    "data.to_csv('Bangla_headlines_withcomments.csv', index=False)\n",
    "print(\"DataFrame saved to 'headlines_with_content.csv'\")"
   ]
  },
  {
   "cell_type": "code",
   "execution_count": null,
   "metadata": {},
   "outputs": [],
   "source": []
  }
 ],
 "metadata": {
  "kernelspec": {
   "display_name": "Python 3",
   "language": "python",
   "name": "python3"
  },
  "language_info": {
   "codemirror_mode": {
    "name": "ipython",
    "version": 3
   },
   "file_extension": ".py",
   "mimetype": "text/x-python",
   "name": "python",
   "nbconvert_exporter": "python",
   "pygments_lexer": "ipython3",
   "version": "3.12.4"
  }
 },
 "nbformat": 4,
 "nbformat_minor": 2
}
