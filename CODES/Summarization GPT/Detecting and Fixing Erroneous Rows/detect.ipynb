{
 "cells": [
  {
   "cell_type": "code",
   "execution_count": 2,
   "metadata": {},
   "outputs": [
    {
     "name": "stdout",
     "output_type": "stream",
     "text": [
      "Row numbers with English summaries:\n",
      "[]\n",
      "\n",
      "Total count of English summaries: 0\n",
      "\n",
      "Row numbers with empty Generated Summary:\n",
      "[]\n",
      "\n",
      "Total count of empty Generated Summaries: 0\n"
     ]
    }
   ],
   "source": [
    "import pandas as pd\n",
    "import langdetect\n",
    "\n",
    "def is_english(text):\n",
    "    try:\n",
    "        return langdetect.detect(text) == 'en'\n",
    "    except:\n",
    "        return False\n",
    "\n",
    "# Read the CSV file\n",
    "df = pd.read_csv('Hindi_Summary_With_Image.csv')\n",
    "\n",
    "# Find rows with English summaries\n",
    "english_rows = df[df['Generated Summary'].apply(is_english)]\n",
    "\n",
    "# Get the row numbers (add 2 to account for 0-indexing and header row)\n",
    "english_row_numbers = english_rows.index + 2\n",
    "\n",
    "print(\"Row numbers with English summaries:\")\n",
    "print(english_row_numbers.tolist())\n",
    "\n",
    "# Print the total count\n",
    "total_count = len(english_row_numbers)\n",
    "print(f\"\\nTotal count of English summaries: {total_count}\")\n",
    "\n",
    "# Find rows with empty Generated Summary\n",
    "empty_rows = df[df['Generated Summary'].isna() | (df['Generated Summary'] == '')]\n",
    "\n",
    "# Get the row numbers of empty summaries (add 2 to account for 0-indexing and header row)\n",
    "empty_row_numbers = empty_rows.index + 2\n",
    "\n",
    "print(\"\\nRow numbers with empty Generated Summary:\")\n",
    "print(empty_row_numbers.tolist())\n",
    "\n",
    "# Print the total count of empty summaries\n",
    "empty_count = len(empty_row_numbers)\n",
    "print(f\"\\nTotal count of empty Generated Summaries: {empty_count}\")"
   ]
  }
 ],
 "metadata": {
  "kernelspec": {
   "display_name": "Python 3",
   "language": "python",
   "name": "python3"
  },
  "language_info": {
   "codemirror_mode": {
    "name": "ipython",
    "version": 3
   },
   "file_extension": ".py",
   "mimetype": "text/x-python",
   "name": "python",
   "nbconvert_exporter": "python",
   "pygments_lexer": "ipython3",
   "version": "3.10.11"
  }
 },
 "nbformat": 4,
 "nbformat_minor": 2
}
