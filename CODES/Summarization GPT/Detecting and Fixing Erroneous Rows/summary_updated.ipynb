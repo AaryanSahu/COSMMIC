{
 "cells": [
  {
   "cell_type": "code",
   "execution_count": 6,
   "metadata": {},
   "outputs": [],
   "source": [
    "import openai\n",
    "from openai import OpenAI\n",
    "import os\n",
    "import csv\n",
    "import tiktoken\n",
    "import pandas as pd\n",
    "import langdetect\n",
    "\n",
    "GPT_API_KEY = 'YOUR_API_KEY_HERE'\n",
    "os.environ['OPENAI_API_KEY'] = GPT_API_KEY\n",
    "openai.api_key = GPT_API_KEY\n",
    "client = OpenAI()"
   ]
  },
  {
   "cell_type": "code",
   "execution_count": 7,
   "metadata": {},
   "outputs": [],
   "source": [
    "data = pd.read_csv(\"Hindi_Summary_With_Image.csv\")\n",
    "tokenizer = tiktoken.get_encoding('cl100k_base')"
   ]
  },
  {
   "cell_type": "code",
   "execution_count": 8,
   "metadata": {},
   "outputs": [],
   "source": [
    "def generate_summary(text, img_url):\n",
    "    # Ensure the text is a string\n",
    "    if not isinstance(text, str):\n",
    "        return None\n",
    "    \n",
    "    # Prepare the messages list\n",
    "    messages = [\n",
    "        {\n",
    "            \"role\": \"system\",\n",
    "            \"content\": \"Analyze the provided image and text, then generate a concise summary that incorporates key information from both. The summary should be in the same language as the original text.\"\n",
    "        },\n",
    "        {\n",
    "            \"role\": \"user\",\n",
    "            \"content\": [\n",
    "                {\"type\": \"text\", \"text\": f\"Examine the image and extract its key points. Combine this information with the following text content. Then, create a concise summary that integrates the important elements from both the image and the text. The summary should capture all crucial points while minimizing extraneous details. Provide only the final summary, in the same language as the original content.\\n\\nText content: {text}\"}\n",
    "            ]\n",
    "        }\n",
    "    ]\n",
    "    \n",
    "    # Try to add the image URL if it exists\n",
    "    if img_url and isinstance(img_url, str):\n",
    "        try:\n",
    "            messages[1][\"content\"].append({\n",
    "                \"type\": \"image_url\",\n",
    "                \"image_url\": {\n",
    "                    \"url\": img_url\n",
    "                }\n",
    "            })\n",
    "        except Exception as e:\n",
    "            print(f\"Error processing image URL: {e}\")\n",
    "    \n",
    "    # Call the model with the prepared messages\n",
    "    try:\n",
    "        completion = client.chat.completions.create(\n",
    "            model=\"gpt-4o-mini\",\n",
    "            messages=messages\n",
    "        )\n",
    "        \n",
    "        # Retrieve the generated summary\n",
    "        summary = completion.choices[0].message.content\n",
    "        print(\"summary_generated\")\n",
    "        return summary\n",
    "    except Exception as e:\n",
    "        print(f\"Error generating summary: {e}\")\n",
    "        return None"
   ]
  },
  {
   "cell_type": "code",
   "execution_count": 10,
   "metadata": {},
   "outputs": [
    {
     "name": "stdout",
     "output_type": "stream",
     "text": [
      "summary_generated\n",
      "Processed article 591 of 1\n",
      "Updated 1 summaries in 'Bangla_Summary_With_Image.csv'\n"
     ]
    }
   ],
   "source": [
    "def is_english(text):\n",
    "    if pd.isna(text):\n",
    "        return False\n",
    "    try:\n",
    "        return langdetect.detect(str(text)) == 'en'\n",
    "    except:\n",
    "        return False\n",
    "\n",
    "# Find rows with English summaries or empty summaries\n",
    "mask = data['Generated Summary'].apply(lambda x: is_english(x) or pd.isna(x))\n",
    "\n",
    "# Count of summaries to be generated\n",
    "total_to_summarize = mask.sum()\n",
    "\n",
    "# Iterate through the DataFrame and update rows that need summarization\n",
    "for index, needs_summary in enumerate(mask):\n",
    "    if needs_summary:\n",
    "        # Generate new summary\n",
    "        new_summary = generate_summary(data.loc[index, 'Content'], data.loc[index, 'Image URL'])\n",
    "        if new_summary:\n",
    "            data.loc[index, 'Generated Summary'] = new_summary\n",
    "            print(f\"Processed article {index + 1} of {total_to_summarize}\")\n",
    "        else:\n",
    "            print(f\"Failed to generate summary for article {index + 1}\")\n",
    "\n",
    "# Save the updated DataFrame back to CSV\n",
    "data.to_csv('Hindi_Summary_With_Image.csv', index=False)\n",
    "\n",
    "print(f\"Updated {total_to_summarize} summaries in 'Hindi_Summary_With_Image.csv'\")"
   ]
  }
 ],
 "metadata": {
  "kernelspec": {
   "display_name": "Python 3",
   "language": "python",
   "name": "python3"
  },
  "language_info": {
   "codemirror_mode": {
    "name": "ipython",
    "version": 3
   },
   "file_extension": ".py",
   "mimetype": "text/x-python",
   "name": "python",
   "nbconvert_exporter": "python",
   "pygments_lexer": "ipython3",
   "version": "3.10.11"
  }
 },
 "nbformat": 4,
 "nbformat_minor": 2
}
