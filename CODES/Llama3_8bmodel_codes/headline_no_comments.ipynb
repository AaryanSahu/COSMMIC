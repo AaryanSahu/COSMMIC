{
  "nbformat": 4,
  "nbformat_minor": 0,
  "metadata": {
    "colab": {
      "provenance": []
    },
    "kernelspec": {
      "name": "python3",
      "display_name": "Python 3"
    },
    "language_info": {
      "name": "python"
    }
  },
  "cells": [
    {
      "cell_type": "code",
      "execution_count": null,
      "metadata": {
        "colab": {
          "base_uri": "https://localhost:8080/"
        },
        "id": "xC6egUIaXZFY",
        "outputId": "0d6564c6-49ad-4d92-d25c-8c702657fc9e"
      },
      "outputs": [
        {
          "output_type": "stream",
          "name": "stdout",
          "text": [
            "Collecting groq\n",
            "  Downloading groq-0.9.0-py3-none-any.whl (103 kB)\n",
            "\u001b[2K     \u001b[90m━━━━━━━━━━━━━━━━━━━━━━━━━━━━━━━━━━━━━━━━\u001b[0m \u001b[32m103.5/103.5 kB\u001b[0m \u001b[31m697.9 kB/s\u001b[0m eta \u001b[36m0:00:00\u001b[0m\n",
            "\u001b[?25hRequirement already satisfied: anyio<5,>=3.5.0 in /usr/local/lib/python3.10/dist-packages (from groq) (3.7.1)\n",
            "Requirement already satisfied: distro<2,>=1.7.0 in /usr/lib/python3/dist-packages (from groq) (1.7.0)\n",
            "Collecting httpx<1,>=0.23.0 (from groq)\n",
            "  Downloading httpx-0.27.0-py3-none-any.whl (75 kB)\n",
            "\u001b[2K     \u001b[90m━━━━━━━━━━━━━━━━━━━━━━━━━━━━━━━━━━━━━━━━\u001b[0m \u001b[32m75.6/75.6 kB\u001b[0m \u001b[31m2.1 MB/s\u001b[0m eta \u001b[36m0:00:00\u001b[0m\n",
            "\u001b[?25hRequirement already satisfied: pydantic<3,>=1.9.0 in /usr/local/lib/python3.10/dist-packages (from groq) (2.8.0)\n",
            "Requirement already satisfied: sniffio in /usr/local/lib/python3.10/dist-packages (from groq) (1.3.1)\n",
            "Requirement already satisfied: typing-extensions<5,>=4.7 in /usr/local/lib/python3.10/dist-packages (from groq) (4.12.2)\n",
            "Requirement already satisfied: idna>=2.8 in /usr/local/lib/python3.10/dist-packages (from anyio<5,>=3.5.0->groq) (3.7)\n",
            "Requirement already satisfied: exceptiongroup in /usr/local/lib/python3.10/dist-packages (from anyio<5,>=3.5.0->groq) (1.2.1)\n",
            "Requirement already satisfied: certifi in /usr/local/lib/python3.10/dist-packages (from httpx<1,>=0.23.0->groq) (2024.6.2)\n",
            "Collecting httpcore==1.* (from httpx<1,>=0.23.0->groq)\n",
            "  Downloading httpcore-1.0.5-py3-none-any.whl (77 kB)\n",
            "\u001b[2K     \u001b[90m━━━━━━━━━━━━━━━━━━━━━━━━━━━━━━━━━━━━━━━━\u001b[0m \u001b[32m77.9/77.9 kB\u001b[0m \u001b[31m4.6 MB/s\u001b[0m eta \u001b[36m0:00:00\u001b[0m\n",
            "\u001b[?25hCollecting h11<0.15,>=0.13 (from httpcore==1.*->httpx<1,>=0.23.0->groq)\n",
            "  Downloading h11-0.14.0-py3-none-any.whl (58 kB)\n",
            "\u001b[2K     \u001b[90m━━━━━━━━━━━━━━━━━━━━━━━━━━━━━━━━━━━━━━━━\u001b[0m \u001b[32m58.3/58.3 kB\u001b[0m \u001b[31m5.0 MB/s\u001b[0m eta \u001b[36m0:00:00\u001b[0m\n",
            "\u001b[?25hRequirement already satisfied: annotated-types>=0.4.0 in /usr/local/lib/python3.10/dist-packages (from pydantic<3,>=1.9.0->groq) (0.7.0)\n",
            "Requirement already satisfied: pydantic-core==2.20.0 in /usr/local/lib/python3.10/dist-packages (from pydantic<3,>=1.9.0->groq) (2.20.0)\n",
            "Installing collected packages: h11, httpcore, httpx, groq\n",
            "Successfully installed groq-0.9.0 h11-0.14.0 httpcore-1.0.5 httpx-0.27.0\n"
          ]
        }
      ],
      "source": [
        "!pip install groq"
      ]
    },
    {
      "cell_type": "code",
      "source": [
        "from groq import Groq"
      ],
      "metadata": {
        "id": "XyTPDiAiXtrF"
      },
      "execution_count": null,
      "outputs": []
    },
    {
      "cell_type": "code",
      "source": [
        "def draft_message(content, role = 'user'):\n",
        "  return {\n",
        "      \"role\": role,\n",
        "      \"content\": content,\n",
        "\n",
        "  }\n",
        "def truncate_content(content, max_length=4000):\n",
        "    return content[:max_length]"
      ],
      "metadata": {
        "id": "kymFUXaHX2vm"
      },
      "execution_count": null,
      "outputs": []
    },
    {
      "cell_type": "code",
      "source": [
        "api_key = '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'"
      ],
      "metadata": {
        "id": "VLUXi0alYJ-x"
      },
      "execution_count": null,
      "outputs": []
    },
    {
      "cell_type": "code",
      "source": [
        "client = Groq(api_key = api_key)"
      ],
      "metadata": {
        "id": "Roj8fosTYO3J"
      },
      "execution_count": null,
      "outputs": []
    },
    {
      "cell_type": "code",
      "source": [
        "from google.colab import drive\n",
        "drive.mount('/content/drive')"
      ],
      "metadata": {
        "colab": {
          "base_uri": "https://localhost:8080/"
        },
        "id": "wcTBPzr5dQWe",
        "outputId": "e7695c76-1aca-4037-ad1e-18f13c2eec61"
      },
      "execution_count": null,
      "outputs": [
        {
          "output_type": "stream",
          "name": "stdout",
          "text": [
            "Mounted at /content/drive\n"
          ]
        }
      ]
    },
    {
      "cell_type": "code",
      "source": [
        "import pandas as pd\n",
        "df = pd.read_csv('/content/drive/MyDrive/Dailyhunt_dataset/Dailyhunt_telugu.csv')\n",
        "df.head()\n",
        "news_text = list(df['Content'])"
      ],
      "metadata": {
        "colab": {
          "base_uri": "https://localhost:8080/",
          "height": 104
        },
        "id": "fK0gBx4TdL3h",
        "outputId": "45dc5d5e-4df6-49ce-c188-03d8cb37509e"
      },
      "execution_count": null,
      "outputs": [
        {
          "output_type": "execute_result",
          "data": {
            "text/plain": [
              "'తెలుగు సినీ పరిశ్రమలో అద్భుతమైన గుర్తింపును సంపాదించుకున్న దర్శకులలో ఒకరు అయినటువంటి వైవిఎస్ చౌదరి ఆఖరుగా సాయి ధరమ్ తేజ్ హీరోగా రూపొందిన రేయ్ అనే సినిమాకు దర్శకత్వం వహించాడు.\\nఈ సినిమా పర్వాలేదు అనే రేంజ్ అంచనాల నడుమ థియేటర్లలో విడుదల అయ్యి బాక్స్ ఆఫీస్ దగ్గర ఘోర పరాజయాన్ని ఎదుర్కొంది. ఈ మూవీ విడుదల అయ్యి ఇప్పటికే చాలా సంవత్సరాలు అవుతోంది. ఇప్పటివరకు ఈ దర్శకుడు ఏ మూవీ కూడా చేయలేదు. ఇకపోతే కొన్ని రోజుల క్రితమే ఆయన తన తదుపరి మూవీ కి సంబంధించిన వివరాలను వెల్లడించాడు.\\n\\nఆ కార్యక్రమంలో భాగంగా ఈయన వైవిఎస్ చౌదరి దర్శకత్వం వహించిన దేవదాసు సినిమా సమయంలో జరిగిన కొన్ని సంఘటనల గురించి వివరించారు. తాజాగా ఈయన మాట్లాడుతూ ... నేను రామ్ హీరోగా ఇలియానా హీరోయిన్గా దేవదాసు సినిమాను చేశాను. ఆ సినిమా సమయంలో రామ్ కి ఎలాంటి క్రేజ్ లేదు. నేను ఆ సినిమాని సంక్రాంతి కానుకగా జనవరి 11 వ తేదీన విడుదల చేశాను. సంక్రాంతి సీజన్ లో పెద్దగా లవ్ స్టోరీ సినిమాలను విడుదల చేయరు.\\n\\nసంక్రాంతి సీజన్ అంతా ఫ్యామిలీ సినిమాలని జనాలు ఎక్కువ చూస్తుంటారు. అయినా నేను రిస్కు చేసి ఆ మూవీ ని విడుదల చేశాను. ఇక నా మూవీజనవరి 11.వ తేదీన విడుదల అయితే ఆ తర్వాత రోజు అనగా జనవరి 12 వ తేదీనే లారెన్స్ హీరోగా రూపొందిన స్టైల్ సినిమా విడుదల అయింది. ఆ సినిమాలో మెగాస్టార్చిరంజీవి , టాలీవుడ్ కింగ్ నాగార్జున గెస్ట్ పాత్రలలో నటించారు. దానితో జనాలు అంత ఆ సినిమా వైపే వెళ్ళిపోయారు. నా సినిమా వైపు జనాలు రాలేదు. ఇక ఆ తర్వాత నాలుగు వారాలు పూర్తయ్యాక నా సినిమా మెల్లమెల్లగా పుంజుకొని మంచి విజయం అందుకుంది అని వైవిఎస్ చౌదరి తాజాగా చెప్పుకొచ్చాడు.'"
            ],
            "application/vnd.google.colaboratory.intrinsic+json": {
              "type": "string"
            }
          },
          "metadata": {},
          "execution_count": 19
        }
      ]
    },
    {
      "cell_type": "code",
      "source": [
        "from tqdm import tqdm\n",
        "prompt = ''' Craft a precise and engaging news headline in same language as of the news content that primarily summarizes the main point of the article. Follow these guidelines:\n",
        "\n",
        "1. Focus predominantly (about 80-90%) on the key information and main message from the article.\n",
        "2. Keep the headline concise, ideally under 15 words.\n",
        "3. Use active voice and clear, impactful language.\n",
        "4. Ensure the headline is factual and directly related to the article's main content.\n",
        "'''"
      ],
      "metadata": {
        "id": "Rq-6E2I_84mw"
      },
      "execution_count": null,
      "outputs": []
    },
    {
      "cell_type": "code",
      "source": [
        "df.to_csv('/content/drive/MyDrive/Dailyhunt_dataset/Dailyhunt_malayalam.csv', index=False)"
      ],
      "metadata": {
        "id": "pD0GX8Qm_WZc"
      },
      "execution_count": null,
      "outputs": []
    },
    {
      "cell_type": "code",
      "source": [
        "from groq import Groq\n",
        "import pandas as pd\n",
        "# from google.colab import drive\n",
        "from tqdm import tqdm\n",
        "\n",
        "def draft_message(content, role='user'):\n",
        "    return {\n",
        "        \"role\": role,\n",
        "        \"content\": content,\n",
        "    }\n",
        "\n",
        "def truncate_content(content, max_length=4500):\n",
        "    return content[:max_length]\n",
        "\n",
        "api_key = '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'\n",
        "client = Groq(api_key=api_key)\n",
        "\n",
        "# drive.mount('/content/drive')\n",
        "\n",
        "\n",
        "df = pd.read_csv('/content/drive/MyDrive/Dailyhunt_dataset/Dailyhunt_telugu.csv')\n",
        "\n",
        "generated_headlines = []\n",
        "\n",
        "for i in tqdm(range(len(news_text)), desc=\"Generating Headlines\"):\n",
        "    content = news_text[i]\n",
        "    messages = [\n",
        "        {\n",
        "            \"role\": 'system',\n",
        "            \"content\": f'''news: {content}'''\n",
        "        }\n",
        "    ]\n",
        "    messages.append(draft_message(prompt))\n",
        "\n",
        "    try:\n",
        "        chat_completion = client.chat.completions.create(\n",
        "            temperature=1.0,\n",
        "            n=1,\n",
        "            model='llama3-8b-8192',\n",
        "            max_tokens=2000,\n",
        "            messages=messages\n",
        "        )\n",
        "        generated_headline = chat_completion.choices[0].message.content\n",
        "    except Exception as e:\n",
        "        error_message = str(e)\n",
        "        if \"context_length_exceeded\" in error_message:\n",
        "            print(f\"Error generating headline for article {i+1}: Context length exceeded. Truncating content.\")\n",
        "            truncated_content = truncate_content(content)\n",
        "            messages[0]['content'] = f'''news: {truncated_content}'''\n",
        "            try:\n",
        "                chat_completion = client.chat.completions.create(\n",
        "                    temperature=1.0,\n",
        "                    n=1,\n",
        "                    model='llama3-8b-8192',\n",
        "                    max_tokens=2000,\n",
        "                    messages=messages\n",
        "                )\n",
        "                generated_headline = chat_completion.choices[0].message.content\n",
        "            except Exception as e2:\n",
        "                print(f\"Error generating headline for article {i+1} after truncation: {e2}\")\n",
        "                generated_headline = \"Error generating headline\"\n",
        "        else:\n",
        "            print(f\"Error generating headline for article {i+1}: {e}\")\n",
        "            generated_headline = \"Error generating headline\"\n",
        "\n",
        "    generated_headlines.append(generated_headline)\n",
        "\n",
        "df['Generated_Headline'] = generated_headlines\n",
        "\n",
        "df.to_csv('/content/drive/MyDrive/Dailyhunt_dataset/Dailyhunt_telugu.csv', index=False)\n",
        "\n",
        "print(\"done sal!\")\n"
      ],
      "metadata": {
        "colab": {
          "base_uri": "https://localhost:8080/"
        },
        "id": "jPdihvcpW-kM",
        "outputId": "631d95ef-8c36-4b6b-f0c7-ab9140cb1c0a"
      },
      "execution_count": null,
      "outputs": [
        {
          "output_type": "stream",
          "name": "stderr",
          "text": [
            "Generating Headlines:   9%|▊         | 43/505 [03:22<49:39,  6.45s/it]"
          ]
        },
        {
          "output_type": "stream",
          "name": "stdout",
          "text": [
            "Error generating headline for article 44: Context length exceeded. Truncating content.\n"
          ]
        },
        {
          "output_type": "stream",
          "name": "stderr",
          "text": [
            "Generating Headlines:   9%|▉         | 46/505 [04:01<1:20:24, 10.51s/it]"
          ]
        },
        {
          "output_type": "stream",
          "name": "stdout",
          "text": [
            "Error generating headline for article 47: Context length exceeded. Truncating content.\n"
          ]
        },
        {
          "output_type": "stream",
          "name": "stderr",
          "text": [
            "Generating Headlines:  11%|█         | 56/505 [05:37<1:08:03,  9.10s/it]"
          ]
        },
        {
          "output_type": "stream",
          "name": "stdout",
          "text": [
            "Error generating headline for article 57: Context length exceeded. Truncating content.\n"
          ]
        },
        {
          "output_type": "stream",
          "name": "stderr",
          "text": [
            "Generating Headlines:  12%|█▏        | 60/505 [06:20<1:08:28,  9.23s/it]"
          ]
        },
        {
          "output_type": "stream",
          "name": "stdout",
          "text": [
            "Error generating headline for article 61: Context length exceeded. Truncating content.\n"
          ]
        },
        {
          "output_type": "stream",
          "name": "stderr",
          "text": [
            "Generating Headlines:  20%|█▉        | 99/505 [10:57<30:08,  4.45s/it]"
          ]
        },
        {
          "output_type": "stream",
          "name": "stdout",
          "text": [
            "Error generating headline for article 100: Context length exceeded. Truncating content.\n"
          ]
        },
        {
          "output_type": "stream",
          "name": "stderr",
          "text": [
            "Generating Headlines:  23%|██▎       | 114/505 [12:37<40:54,  6.28s/it]"
          ]
        },
        {
          "output_type": "stream",
          "name": "stdout",
          "text": [
            "Error generating headline for article 115: Context length exceeded. Truncating content.\n"
          ]
        },
        {
          "output_type": "stream",
          "name": "stderr",
          "text": [
            "Generating Headlines:  23%|██▎       | 116/505 [12:59<54:26,  8.40s/it]"
          ]
        },
        {
          "output_type": "stream",
          "name": "stdout",
          "text": [
            "Error generating headline for article 117: Context length exceeded. Truncating content.\n"
          ]
        },
        {
          "output_type": "stream",
          "name": "stderr",
          "text": [
            "Generating Headlines:  25%|██▍       | 125/505 [13:55<36:58,  5.84s/it]"
          ]
        },
        {
          "output_type": "stream",
          "name": "stdout",
          "text": [
            "Error generating headline for article 126: Context length exceeded. Truncating content.\n"
          ]
        },
        {
          "output_type": "stream",
          "name": "stderr",
          "text": [
            "\rGenerating Headlines:  25%|██▍       | 126/505 [14:09<53:07,  8.41s/it]"
          ]
        },
        {
          "output_type": "stream",
          "name": "stdout",
          "text": [
            "Error generating headline for article 127: Context length exceeded. Truncating content.\n"
          ]
        },
        {
          "output_type": "stream",
          "name": "stderr",
          "text": [
            "Generating Headlines:  26%|██▌       | 129/505 [14:41<56:00,  8.94s/it]"
          ]
        },
        {
          "output_type": "stream",
          "name": "stdout",
          "text": [
            "Error generating headline for article 130: Context length exceeded. Truncating content.\n"
          ]
        },
        {
          "output_type": "stream",
          "name": "stderr",
          "text": [
            "Generating Headlines:  28%|██▊       | 141/505 [16:10<53:49,  8.87s/it]"
          ]
        },
        {
          "output_type": "stream",
          "name": "stdout",
          "text": [
            "Error generating headline for article 142: Context length exceeded. Truncating content.\n"
          ]
        },
        {
          "output_type": "stream",
          "name": "stderr",
          "text": [
            "Generating Headlines:  30%|███       | 153/505 [17:39<46:00,  7.84s/it]"
          ]
        },
        {
          "output_type": "stream",
          "name": "stdout",
          "text": [
            "Error generating headline for article 154: Context length exceeded. Truncating content.\n"
          ]
        },
        {
          "output_type": "stream",
          "name": "stderr",
          "text": [
            "Generating Headlines:  31%|███       | 155/505 [18:07<1:02:08, 10.65s/it]"
          ]
        },
        {
          "output_type": "stream",
          "name": "stdout",
          "text": [
            "Error generating headline for article 156: Context length exceeded. Truncating content.\n"
          ]
        },
        {
          "output_type": "stream",
          "name": "stderr",
          "text": [
            "Generating Headlines:  33%|███▎      | 166/505 [19:20<30:46,  5.45s/it]"
          ]
        },
        {
          "output_type": "stream",
          "name": "stdout",
          "text": [
            "Error generating headline for article 167: Context length exceeded. Truncating content.\n"
          ]
        },
        {
          "output_type": "stream",
          "name": "stderr",
          "text": [
            "\rGenerating Headlines:  33%|███▎      | 167/505 [19:33<42:58,  7.63s/it]"
          ]
        },
        {
          "output_type": "stream",
          "name": "stdout",
          "text": [
            "Error generating headline for article 168: Context length exceeded. Truncating content.\n"
          ]
        },
        {
          "output_type": "stream",
          "name": "stderr",
          "text": [
            "\rGenerating Headlines:  33%|███▎      | 168/505 [19:49<57:00, 10.15s/it]"
          ]
        },
        {
          "output_type": "stream",
          "name": "stdout",
          "text": [
            "Error generating headline for article 169: Context length exceeded. Truncating content.\n"
          ]
        },
        {
          "output_type": "stream",
          "name": "stderr",
          "text": [
            "Generating Headlines:  35%|███▌      | 178/505 [21:22<47:14,  8.67s/it]"
          ]
        },
        {
          "output_type": "stream",
          "name": "stdout",
          "text": [
            "Error generating headline for article 179: Context length exceeded. Truncating content.\n"
          ]
        },
        {
          "output_type": "stream",
          "name": "stderr",
          "text": [
            "Generating Headlines:  40%|███▉      | 201/505 [24:03<32:13,  6.36s/it]"
          ]
        },
        {
          "output_type": "stream",
          "name": "stdout",
          "text": [
            "Error generating headline for article 202: Context length exceeded. Truncating content.\n"
          ]
        },
        {
          "output_type": "stream",
          "name": "stderr",
          "text": [
            "Generating Headlines:  52%|█████▏    | 262/505 [31:02<30:22,  7.50s/it]"
          ]
        },
        {
          "output_type": "stream",
          "name": "stdout",
          "text": [
            "Error generating headline for article 263: Context length exceeded. Truncating content.\n"
          ]
        },
        {
          "output_type": "stream",
          "name": "stderr",
          "text": [
            "Generating Headlines:  59%|█████▉    | 297/505 [35:12<21:44,  6.27s/it]"
          ]
        },
        {
          "output_type": "stream",
          "name": "stdout",
          "text": [
            "Error generating headline for article 298: Context length exceeded. Truncating content.\n"
          ]
        },
        {
          "output_type": "stream",
          "name": "stderr",
          "text": [
            "Generating Headlines:  64%|██████▍   | 322/505 [38:01<18:28,  6.06s/it]"
          ]
        },
        {
          "output_type": "stream",
          "name": "stdout",
          "text": [
            "Error generating headline for article 323: Context length exceeded. Truncating content.\n"
          ]
        },
        {
          "output_type": "stream",
          "name": "stderr",
          "text": [
            "Generating Headlines:  65%|██████▌   | 329/505 [39:05<21:22,  7.28s/it]"
          ]
        },
        {
          "output_type": "stream",
          "name": "stdout",
          "text": [
            "Error generating headline for article 330: Context length exceeded. Truncating content.\n"
          ]
        },
        {
          "output_type": "stream",
          "name": "stderr",
          "text": [
            "Generating Headlines:  68%|██████▊   | 343/505 [40:45<17:05,  6.33s/it]"
          ]
        },
        {
          "output_type": "stream",
          "name": "stdout",
          "text": [
            "Error generating headline for article 344: Context length exceeded. Truncating content.\n"
          ]
        },
        {
          "output_type": "stream",
          "name": "stderr",
          "text": [
            "Generating Headlines:  69%|██████▊   | 346/505 [41:13<19:59,  7.54s/it]"
          ]
        },
        {
          "output_type": "stream",
          "name": "stdout",
          "text": [
            "Error generating headline for article 347: Context length exceeded. Truncating content.\n"
          ]
        },
        {
          "output_type": "stream",
          "name": "stderr",
          "text": [
            "Generating Headlines:  69%|██████▉   | 350/505 [41:41<15:29,  5.99s/it]"
          ]
        },
        {
          "output_type": "stream",
          "name": "stdout",
          "text": [
            "Error generating headline for article 351: Context length exceeded. Truncating content.\n"
          ]
        },
        {
          "output_type": "stream",
          "name": "stderr",
          "text": [
            "Generating Headlines:  70%|███████   | 356/505 [42:39<18:46,  7.56s/it]"
          ]
        },
        {
          "output_type": "stream",
          "name": "stdout",
          "text": [
            "Error generating headline for article 357: Context length exceeded. Truncating content.\n"
          ]
        },
        {
          "output_type": "stream",
          "name": "stderr",
          "text": [
            "Generating Headlines:  73%|███████▎  | 370/505 [44:05<11:50,  5.27s/it]"
          ]
        },
        {
          "output_type": "stream",
          "name": "stdout",
          "text": [
            "Error generating headline for article 371: Context length exceeded. Truncating content.\n"
          ]
        },
        {
          "output_type": "stream",
          "name": "stderr",
          "text": [
            "Generating Headlines:  74%|███████▍  | 373/505 [44:35<17:32,  7.97s/it]"
          ]
        },
        {
          "output_type": "stream",
          "name": "stdout",
          "text": [
            "Error generating headline for article 374: Context length exceeded. Truncating content.\n"
          ]
        },
        {
          "output_type": "stream",
          "name": "stderr",
          "text": [
            "Generating Headlines:  77%|███████▋  | 387/505 [46:16<11:28,  5.84s/it]"
          ]
        },
        {
          "output_type": "stream",
          "name": "stdout",
          "text": [
            "Error generating headline for article 388: Context length exceeded. Truncating content.\n"
          ]
        },
        {
          "output_type": "stream",
          "name": "stderr",
          "text": [
            "\rGenerating Headlines:  77%|███████▋  | 388/505 [46:39<21:37, 11.09s/it]"
          ]
        },
        {
          "output_type": "stream",
          "name": "stdout",
          "text": [
            "Error generating headline for article 389: Context length exceeded. Truncating content.\n"
          ]
        },
        {
          "output_type": "stream",
          "name": "stderr",
          "text": [
            "Generating Headlines:  80%|███████▉  | 402/505 [48:13<10:17,  5.99s/it]"
          ]
        },
        {
          "output_type": "stream",
          "name": "stdout",
          "text": [
            "Error generating headline for article 403: Context length exceeded. Truncating content.\n"
          ]
        },
        {
          "output_type": "stream",
          "name": "stderr",
          "text": [
            "Generating Headlines:  83%|████████▎ | 419/505 [50:08<10:40,  7.45s/it]"
          ]
        },
        {
          "output_type": "stream",
          "name": "stdout",
          "text": [
            "Error generating headline for article 420: Context length exceeded. Truncating content.\n"
          ]
        },
        {
          "output_type": "stream",
          "name": "stderr",
          "text": [
            "Generating Headlines:  88%|████████▊ | 444/505 [52:55<08:10,  8.05s/it]"
          ]
        },
        {
          "output_type": "stream",
          "name": "stdout",
          "text": [
            "Error generating headline for article 445: Context length exceeded. Truncating content.\n"
          ]
        },
        {
          "output_type": "stream",
          "name": "stderr",
          "text": [
            "\rGenerating Headlines:  88%|████████▊ | 445/505 [53:05<08:38,  8.64s/it]"
          ]
        },
        {
          "output_type": "stream",
          "name": "stdout",
          "text": [
            "Error generating headline for article 446: Context length exceeded. Truncating content.\n"
          ]
        },
        {
          "output_type": "stream",
          "name": "stderr",
          "text": [
            "Generating Headlines:  99%|█████████▊| 498/505 [59:05<00:43,  6.21s/it]"
          ]
        },
        {
          "output_type": "stream",
          "name": "stdout",
          "text": [
            "Error generating headline for article 499: Context length exceeded. Truncating content.\n"
          ]
        },
        {
          "output_type": "stream",
          "name": "stderr",
          "text": [
            "Generating Headlines: 100%|██████████| 505/505 [59:53<00:00,  7.12s/it]"
          ]
        },
        {
          "output_type": "stream",
          "name": "stdout",
          "text": [
            "done sal!\n"
          ]
        },
        {
          "output_type": "stream",
          "name": "stderr",
          "text": [
            "\n"
          ]
        }
      ]
    },
    {
      "cell_type": "code",
      "source": [],
      "metadata": {
        "id": "XJgl3_Qot6gC"
      },
      "execution_count": null,
      "outputs": []
    }
  ]
}